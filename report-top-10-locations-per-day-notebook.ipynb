{
	"metadata": {
		"kernelspec": {
			"name": "glue_pyspark",
			"display_name": "Glue PySpark",
			"language": "python"
		},
		"language_info": {
			"name": "Python_Glue_Session",
			"mimetype": "text/x-python",
			"codemirror_mode": {
				"name": "python",
				"version": 3
			},
			"pygments_lexer": "python3",
			"file_extension": ".py"
		}
	},
	"nbformat_minor": 4,
	"nbformat": 4,
	"cells": [
		{
			"cell_type": "markdown",
			"source": "# AWS Glue Studio Notebook\n##### You are now running a AWS Glue Studio notebook; To start using your notebook you need to start an AWS Glue Interactive Session.\n",
			"metadata": {
				"editable": true,
				"trusted": true
			}
		},
		{
			"cell_type": "markdown",
			"source": "#### Optional: Run this cell to see available notebook commands (\"magics\").\n",
			"metadata": {
				"editable": true,
				"trusted": true
			}
		},
		{
			"cell_type": "code",
			"source": "%help",
			"metadata": {
				"editable": true,
				"trusted": true
			},
			"execution_count": null,
			"outputs": []
		},
		{
			"cell_type": "markdown",
			"source": "####  Run this cell to set up and start your interactive session.\n",
			"metadata": {
				"editable": true,
				"trusted": true
			}
		},
		{
			"cell_type": "code",
			"source": "%idle_timeout 2880\n%glue_version 3.0\n%worker_type G.1X\n%number_of_workers 2\n%extra_py_files s3://pedestrian-analysis-working-bucket/glue-job-scripts/util.py\n\nimport sys, io, zipfile, pandas as pd, util\nfrom datetime import datetime\n\nfrom pyspark.sql.functions import sum, col, rank, desc, lit\nfrom pyspark.sql.window import Window\nfrom pyspark.sql.functions import row_number\n\nfrom pyspark.context import SparkContext\nfrom pyspark.sql.types import (\n    StructType, StructField, StringType, IntegerType, DoubleType, TimestampType\n)\n\nfrom awsglue.utils import getResolvedOptions\nfrom awsglue.context import GlueContext\nfrom awsglue.job import Job\n\n\nsc = SparkContext.getOrCreate()\nglueContext = GlueContext(sc)\nspark = glueContext.spark_session\njob = Job(glueContext)",
			"metadata": {
				"editable": true,
				"trusted": true
			},
			"execution_count": 4,
			"outputs": [
				{
					"name": "stderr",
					"text": "You are already connected to a glueetl session a328b2c5-3eaa-41b1-9cf1-dab910110d18.\n\nNo change will be made to the current session that is set as glueetl. The session configuration change will apply to newly created sessions.\n",
					"output_type": "stream"
				},
				{
					"name": "stdout",
					"text": "Current idle_timeout is 2880 minutes.\nidle_timeout has been set to 2880 minutes.\n",
					"output_type": "stream"
				},
				{
					"name": "stderr",
					"text": "You are already connected to a glueetl session a328b2c5-3eaa-41b1-9cf1-dab910110d18.\n\nNo change will be made to the current session that is set as glueetl. The session configuration change will apply to newly created sessions.\n",
					"output_type": "stream"
				},
				{
					"name": "stdout",
					"text": "Setting Glue version to: 3.0\n",
					"output_type": "stream"
				},
				{
					"name": "stderr",
					"text": "You are already connected to a glueetl session a328b2c5-3eaa-41b1-9cf1-dab910110d18.\n\nNo change will be made to the current session that is set as glueetl. The session configuration change will apply to newly created sessions.\n",
					"output_type": "stream"
				},
				{
					"name": "stdout",
					"text": "Previous worker type: G.1X\nSetting new worker type to: G.1X\n",
					"output_type": "stream"
				},
				{
					"name": "stderr",
					"text": "You are already connected to a glueetl session a328b2c5-3eaa-41b1-9cf1-dab910110d18.\n\nNo change will be made to the current session that is set as glueetl. The session configuration change will apply to newly created sessions.\n",
					"output_type": "stream"
				},
				{
					"name": "stdout",
					"text": "Previous number of workers: 2\nSetting new number of workers to: 2\n",
					"output_type": "stream"
				},
				{
					"name": "stderr",
					"text": "You are already connected to a glueetl session a328b2c5-3eaa-41b1-9cf1-dab910110d18.\n\nNo change will be made to the current session that is set as glueetl. The session configuration change will apply to newly created sessions.\n",
					"output_type": "stream"
				},
				{
					"name": "stdout",
					"text": "Extra py files to be included:\ns3://pedestrian-analysis-working-bucket/glue-job-scripts/util.py\n\n",
					"output_type": "stream"
				}
			]
		},
		{
			"cell_type": "code",
			"source": "BUCKET_NAME = 'pedestrian-analysis-working-bucket'\nDATABASE_NAME = 'pedestrian_analysis_report'\nTABLE_NAME = 'report_top_10_locations_per_day'\n\n# Load the data from the source tables\ndf = glueContext.create_dynamic_frame.from_catalog(\n    database=\"pedestrian_analysis_raw\",\n    table_name=\"sensor_counts\"\n).toDF()\nsensor_reference = glueContext.create_dynamic_frame.from_catalog(\n    database=\"pedestrian_analysis_raw\",\n    table_name=\"sensor_reference_data\"\n).toDF()",
			"metadata": {
				"trusted": true
			},
			"execution_count": 2,
			"outputs": [
				{
					"name": "stdout",
					"text": "\n",
					"output_type": "stream"
				}
			]
		},
		{
			"cell_type": "code",
			"source": "df.show()",
			"metadata": {
				"trusted": true
			},
			"execution_count": 17,
			"outputs": [
				{
					"name": "stdout",
					"text": "+-------+-------------------+---------+--------------------+------------+\n|     id|          date_time|sensor_id|         sensor_name|hourly_count|\n+-------+-------------------+---------+--------------------+------------+\n|2902119|2019-11-12T22:00:00|       11|     Waterfront City|          27|\n| 763567|2014-01-24T10:00:00|       25|Melbourne Convent...|         436|\n|1028480|2015-01-06T16:00:00|       23|Spencer St-Collin...|         760|\n| 331173|2011-07-08T12:00:00|       10|      Victoria Point|         569|\n| 430567|2012-03-03T19:00:00|        1|Bourke Street Mal...|         847|\n| 631323|2013-06-14T14:00:00|        4|    Town Hall (West)|        3219|\n| 573323|2013-01-30T13:00:00|       16|Australia on Collins|        2931|\n| 408282|2012-01-12T04:00:00|       18|Collins Place (No...|           1|\n| 754463|2014-01-12T13:00:00|        6|Flinders Street S...|        1154|\n|1139175|2015-05-13T19:00:00|       11|     Waterfront City|          39|\n| 256092|2011-01-04T10:00:00|       11|     Waterfront City|         123|\n| 486061|2012-07-10T06:00:00|        1|Bourke Street Mal...|          65|\n| 855275|2014-05-27T07:00:00|       22|Flinders St-Eliza...|        1632|\n| 267120|2011-01-31T11:00:00|        6|Flinders Street S...|        1056|\n| 184780|2010-07-13T01:00:00|       10|      Victoria Point|           7|\n|  39053|2009-08-06T22:00:00|       16|Australia on Collins|         170|\n| 846718|2014-05-16T01:00:00|       17|Collins Place (So...|          14|\n| 911953|2014-08-09T06:00:00|       29|St Kilda Rd-Alexa...|          45|\n| 636901|2013-06-28T06:00:00|        6|Flinders Street S...|         400|\n| 891742|2014-07-12T19:00:00|       18|Collins Place (No...|         111|\n+-------+-------------------+---------+--------------------+------------+\nonly showing top 20 rows\n",
					"output_type": "stream"
				}
			]
		},
		{
			"cell_type": "markdown",
			"source": "#### Example: Create a DynamicFrame from a table in the AWS Glue Data Catalog and display its schema\n",
			"metadata": {
				"editable": true,
				"trusted": true
			}
		},
		{
			"cell_type": "code",
			"source": "dyf = glueContext.create_dynamic_frame.from_catalog(database='database_name', table_name='table_name')\ndyf.printSchema()",
			"metadata": {
				"editable": true,
				"trusted": true
			},
			"execution_count": null,
			"outputs": []
		},
		{
			"cell_type": "markdown",
			"source": "#### Example: Convert the DynamicFrame to a Spark DataFrame and display a sample of the data\n",
			"metadata": {
				"editable": true,
				"trusted": true
			}
		},
		{
			"cell_type": "code",
			"source": "df = dyf.toDF()\ndf.show()",
			"metadata": {
				"editable": true,
				"trusted": true
			},
			"execution_count": null,
			"outputs": []
		},
		{
			"cell_type": "markdown",
			"source": "#### Example: Write the data in the DynamicFrame to a location in Amazon S3 and a table for it in the AWS Glue Data Catalog\n",
			"metadata": {
				"editable": true,
				"trusted": true
			}
		},
		{
			"cell_type": "code",
			"source": "s3output = glueContext.getSink(\n  path=\"s3://bucket_name/folder_name\",\n  connection_type=\"s3\",\n  updateBehavior=\"UPDATE_IN_DATABASE\",\n  partitionKeys=[],\n  compression=\"snappy\",\n  enableUpdateCatalog=True,\n  transformation_ctx=\"s3output\",\n)\ns3output.setCatalogInfo(\n  catalogDatabase=\"demo\", catalogTableName=\"populations\"\n)\ns3output.setFormat(\"glueparquet\")\ns3output.writeFrame(DyF)",
			"metadata": {
				"editable": true,
				"trusted": true
			},
			"execution_count": null,
			"outputs": []
		}
	]
}